{
 "cells": [
  {
   "cell_type": "code",
   "execution_count": 8,
   "id": "4168ddae",
   "metadata": {},
   "outputs": [
    {
     "name": "stdout",
     "output_type": "stream",
     "text": [
      "red\n",
      "sweet\n",
      "RED\n"
     ]
    }
   ],
   "source": [
    "class Apple():\n",
    "    pass\n",
    "\n",
    "class Apple():\n",
    "    flavour = \"\"\n",
    "    color = \"\"\n",
    "\n",
    "jonagold = Apple()\n",
    "jonagold.color = \"red\"\n",
    "jonagold.flavour = \"sweet\"\n",
    "print(jonagold.color)\n",
    "print(jonagold.flavour)\n",
    "print(jonagold.color.upper())"
   ]
  },
  {
   "cell_type": "code",
   "execution_count": 12,
   "id": "893c9ac5",
   "metadata": {},
   "outputs": [
    {
     "name": "stdout",
     "output_type": "stream",
     "text": [
      "Roses are Red,\n",
      "Voilets are Blue,\n",
      "My Dear MOM, I LOVE YOU\n"
     ]
    }
   ],
   "source": [
    "class Flower:\n",
    "    color = \"unknown\"\n",
    "    \n",
    "rose = Flower()\n",
    "rose.color = \"Red\"\n",
    "\n",
    "voilet = Flower()\n",
    "voilet.color = \"Blue\"\n",
    "\n",
    "this = \"My Dear MOM, I LOVE YOU\"\n",
    "\n",
    "print(\"Roses are {},\".format(rose.color))\n",
    "print(\"Voilets are {},\".format(voilet.color))\n",
    "print(this)"
   ]
  },
  {
   "cell_type": "code",
   "execution_count": 13,
   "id": "e3de66b6",
   "metadata": {},
   "outputs": [
    {
     "name": "stdout",
     "output_type": "stream",
     "text": [
      "Meow! I'm Luna. Meow.\n",
      "Meow! I'm Bella. Meow.\n"
     ]
    }
   ],
   "source": [
    "class Cat:\n",
    "    name = ''\n",
    "    def speak(self):\n",
    "        print(\"Meow! I'm {}. Meow.\".format(self.name))\n",
    "        \n",
    "myLuna = Cat()\n",
    "myLuna.name = \"Luna\"\n",
    "myLuna.speak()\n",
    "\n",
    "myBella = Cat()\n",
    "myBella.name = \"Bella\"\n",
    "myBella.speak()"
   ]
  },
  {
   "cell_type": "code",
   "execution_count": 14,
   "id": "8359a2b8",
   "metadata": {},
   "outputs": [
    {
     "data": {
      "text/plain": [
       "24"
      ]
     },
     "execution_count": 14,
     "metadata": {},
     "output_type": "execute_result"
    }
   ],
   "source": [
    "class Cat:\n",
    "    years = 0\n",
    "    def age(self):\n",
    "        return self.years * 12\n",
    "    \n",
    "myLuna = Cat()\n",
    "myLuna.years = 2\n",
    "myLuna.age()"
   ]
  },
  {
   "cell_type": "code",
   "execution_count": 5,
   "id": "403cf27d",
   "metadata": {},
   "outputs": [
    {
     "name": "stdout",
     "output_type": "stream",
     "text": [
      "It is a Red and its color is Sweet\n"
     ]
    }
   ],
   "source": [
    "class Apple:\n",
    "    def __init__(self, color, flavour):\n",
    "        self.color = color\n",
    "        self.flavour = flavour\n",
    "    def __str__(self):\n",
    "        return \"It is a {} and its color is {}\".format(self.color, self.flavour)\n",
    "    \n",
    "jonagold = Apple(\"Red\", \"Sweet\")\n",
    "print(jonagold)"
   ]
  },
  {
   "cell_type": "code",
   "execution_count": 6,
   "id": "faaaaba7",
   "metadata": {},
   "outputs": [
    {
     "name": "stdout",
     "output_type": "stream",
     "text": [
      "Help on class Apple in module __main__:\n",
      "\n",
      "class Apple(builtins.object)\n",
      " |  Apple(color, flavour)\n",
      " |  \n",
      " |  Methods defined here:\n",
      " |  \n",
      " |  __init__(self, color, flavour)\n",
      " |      Initialize self.  See help(type(self)) for accurate signature.\n",
      " |  \n",
      " |  __str__(self)\n",
      " |      Return str(self).\n",
      " |  \n",
      " |  ----------------------------------------------------------------------\n",
      " |  Data descriptors defined here:\n",
      " |  \n",
      " |  __dict__\n",
      " |      dictionary for instance variables (if defined)\n",
      " |  \n",
      " |  __weakref__\n",
      " |      list of weak references to the object (if defined)\n",
      "\n"
     ]
    }
   ],
   "source": [
    "class Apple:\n",
    "    def __init__(self, color, flavour):\n",
    "        self.color = color\n",
    "        self.flavour = flavour\n",
    "    def __str__(self):\n",
    "        return \"It is a {} and its color is {}\".format(self.color, self.flavour)\n",
    "    \n",
    "help(Apple)"
   ]
  },
  {
   "cell_type": "code",
   "execution_count": 7,
   "id": "c2b39b15",
   "metadata": {},
   "outputs": [
    {
     "name": "stdout",
     "output_type": "stream",
     "text": [
      "Help on class Person in module __main__:\n",
      "\n",
      "class Person(builtins.object)\n",
      " |  Person(name)\n",
      " |  \n",
      " |  Methods defined here:\n",
      " |  \n",
      " |  __init__(self, name)\n",
      " |      Initialize self.  See help(type(self)) for accurate signature.\n",
      " |  \n",
      " |  greeting(self)\n",
      " |      Output a message with name of a person.\n",
      " |  \n",
      " |  ----------------------------------------------------------------------\n",
      " |  Data descriptors defined here:\n",
      " |  \n",
      " |  __dict__\n",
      " |      dictionary for instance variables (if defined)\n",
      " |  \n",
      " |  __weakref__\n",
      " |      list of weak references to the object (if defined)\n",
      "\n"
     ]
    }
   ],
   "source": [
    "class Person:\n",
    "    def __init__(self, name):\n",
    "        self.name = name\n",
    "    def greeting(self):\n",
    "        \"\"\"Output a message with name of a person.\"\"\"\n",
    "        print(\"Hello! My name is {name}\".format(name=self.name))\n",
    "        \n",
    "help(Person)"
   ]
  },
  {
   "cell_type": "code",
   "execution_count": 10,
   "id": "10b47b48",
   "metadata": {},
   "outputs": [
    {
     "name": "stdout",
     "output_type": "stream",
     "text": [
      "Meow! My name is Luna. Meow!\n",
      "Moooo! My name is Milky. Moooo!\n"
     ]
    }
   ],
   "source": [
    "class Animal:\n",
    "    sound = \"\"\n",
    "    def __init__(self, name):\n",
    "        self.name = name\n",
    "    def speak(self):\n",
    "        print(\"{sound}! My name is {name}. {sound}!\".format(name=self.name, sound=self.sound))\n",
    "        \n",
    "class Cat(Animal):\n",
    "    sound = \"Meow\"\n",
    "    \n",
    "myLuna = Cat(\"Luna\")\n",
    "myLuna.speak()\n",
    "\n",
    "class Cow(Animal):\n",
    "    sound = \"Moooo\"\n",
    "    \n",
    "mycow = Cow(\"Milky\")\n",
    "mycow.speak()"
   ]
  },
  {
   "cell_type": "code",
   "execution_count": 11,
   "id": "76f93f53",
   "metadata": {},
   "outputs": [
    {
     "name": "stdout",
     "output_type": "stream",
     "text": [
      "This Polo is made of Cotton.\n"
     ]
    }
   ],
   "source": [
    "class Clothing:\n",
    "    material = \"\"\n",
    "    def __init__(self, name):\n",
    "        self.name = name\n",
    "    def checkmaterial(self):\n",
    "        print(\"This {} is made of {}.\".format(self.name, self.material))\n",
    "        \n",
    "class Shirt(Clothing):\n",
    "    material = \"Cotton\"\n",
    "    \n",
    "Polo = Shirt(\"Polo\")\n",
    "Polo.checkmaterial()"
   ]
  },
  {
   "cell_type": "code",
   "execution_count": 12,
   "id": "b1d2cca8",
   "metadata": {},
   "outputs": [],
   "source": [
    "class Repository:\n",
    "    def __init__(self):\n",
    "        self.packages = {}\n",
    "    def add_packages(self, package):\n",
    "        self.packages[package.name] = package\n",
    "    def total_size(self):\n",
    "        result = 0\n",
    "        for package in self.packages.values():\n",
    "            result += package.size\n",
    "        return result"
   ]
  },
  {
   "cell_type": "code",
   "execution_count": 13,
   "id": "db243567",
   "metadata": {},
   "outputs": [
    {
     "data": {
      "text/plain": [
       "5"
      ]
     },
     "execution_count": 13,
     "metadata": {},
     "output_type": "execute_result"
    }
   ],
   "source": [
    "import random\n",
    "random.randint(1, 10)"
   ]
  },
  {
   "cell_type": "code",
   "execution_count": 14,
   "id": "c6c6a829",
   "metadata": {},
   "outputs": [
    {
     "name": "stdout",
     "output_type": "stream",
     "text": [
      "2023-09-26 22:38:27.392259\n"
     ]
    }
   ],
   "source": [
    "import datetime\n",
    "now = datetime.datetime.now()\n",
    "print(now)"
   ]
  },
  {
   "cell_type": "code",
   "execution_count": null,
   "id": "6356814b",
   "metadata": {},
   "outputs": [],
   "source": []
  }
 ],
 "metadata": {
  "kernelspec": {
   "display_name": "Python 3 (ipykernel)",
   "language": "python",
   "name": "python3"
  },
  "language_info": {
   "codemirror_mode": {
    "name": "ipython",
    "version": 3
   },
   "file_extension": ".py",
   "mimetype": "text/x-python",
   "name": "python",
   "nbconvert_exporter": "python",
   "pygments_lexer": "ipython3",
   "version": "3.11.4"
  }
 },
 "nbformat": 4,
 "nbformat_minor": 5
}
